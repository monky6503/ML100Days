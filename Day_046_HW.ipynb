{
 "cells": [
  {
   "cell_type": "markdown",
   "metadata": {},
   "source": [
    "### 作業\n",
    "目前已經學過許多的模型，相信大家對整體流程應該比較掌握了，這次作業請改用**手寫辨識資料集**，步驟流程都是一樣的，請試著自己撰寫程式碼來完成所有步驟"
   ]
  },
  {
   "cell_type": "code",
   "execution_count": 12,
   "metadata": {},
   "outputs": [],
   "source": [
    "from sklearn import datasets \n",
    "from sklearn.metrics import accuracy_score\n",
    "from sklearn.ensemble import GradientBoostingClassifier\n",
    "from sklearn.model_selection import train_test_split\n",
    "digits = datasets.load_digits(as_frame=True)"
   ]
  },
  {
   "cell_type": "code",
   "execution_count": 11,
   "metadata": {},
   "outputs": [
    {
     "name": "stdout",
     "output_type": "stream",
     "text": [
      "x: (1797, 64)\n",
      "y: (1797,)\n"
     ]
    }
   ],
   "source": [
    "x = digits.data\n",
    "y = digits.target\n",
    "print(\"x:\",x.shape)\n",
    "print(\"y:\",y.shape)"
   ]
  },
  {
   "cell_type": "code",
   "execution_count": 31,
   "metadata": {},
   "outputs": [
    {
     "name": "stdout",
     "output_type": "stream",
     "text": [
      "gb_clf1_Accuracy: 0.97\n",
      "gb_clf2_Accuracy: 0.97\n",
      "gb_clf3_Accuracy: 0.97\n",
      "gb_clf4_Accuracy: 0.96\n"
     ]
    }
   ],
   "source": [
    "x_train,x_test,y_train,y_test = train_test_split(x,y,test_size=0.2,random_state=4)\n",
    "\n",
    "gb_clf1 = GradientBoostingClassifier()\n",
    "gb_clf2 = GradientBoostingClassifier(n_estimators=100,max_depth=5,min_samples_split=30)\n",
    "gb_clf3 = GradientBoostingClassifier(n_estimators=100,max_depth=7,min_samples_split=30)\n",
    "gb_clf4 = GradientBoostingClassifier(n_estimators=100,max_depth=10,min_samples_split=30)\n",
    "\n",
    "gb_clf1.fit(x_train,y_train)\n",
    "gb_clf2.fit(x_train,y_train)\n",
    "gb_clf3.fit(x_train,y_train)\n",
    "gb_clf4.fit(x_train,y_train)\n",
    "\n",
    "y_pred1 = gb_clf1.predict(x_test)\n",
    "y_pred2 = gb_clf2.predict(x_test)\n",
    "y_pred3 = gb_clf3.predict(x_test)\n",
    "y_pred4 = gb_clf4.predict(x_test)\n",
    "\n",
    "score1 = accuracy_score(y_test,y_pred1)\n",
    "score2 = accuracy_score(y_test,y_pred2)\n",
    "score3 = accuracy_score(y_test,y_pred3)\n",
    "score4 = accuracy_score(y_test,y_pred4)\n",
    "\n",
    "print(\"gb_clf1_Accuracy: %.2f\" %score1)\n",
    "print(\"gb_clf2_Accuracy: %.2f\" %score2)\n",
    "print(\"gb_clf3_Accuracy: %.2f\" %score3)\n",
    "print(\"gb_clf4_Accuracy: %.2f\" %score4)"
   ]
  },
  {
   "cell_type": "code",
   "execution_count": null,
   "metadata": {},
   "outputs": [],
   "source": []
  },
  {
   "cell_type": "code",
   "execution_count": null,
   "metadata": {},
   "outputs": [],
   "source": []
  }
 ],
 "metadata": {
  "kernelspec": {
   "display_name": "Python 3 (ipykernel)",
   "language": "python",
   "name": "python3"
  },
  "language_info": {
   "codemirror_mode": {
    "name": "ipython",
    "version": 3
   },
   "file_extension": ".py",
   "mimetype": "text/x-python",
   "name": "python",
   "nbconvert_exporter": "python",
   "pygments_lexer": "ipython3",
   "version": "3.10.8"
  }
 },
 "nbformat": 4,
 "nbformat_minor": 2
}
