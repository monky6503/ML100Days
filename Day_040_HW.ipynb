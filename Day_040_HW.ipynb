{
 "cells": [
  {
   "cell_type": "markdown",
   "metadata": {},
   "source": [
    "## [作業重點]\n",
    "使用 Sklearn 中的 Lasso, Ridge 模型，來訓練各種資料集，務必了解送進去模型訓練的**資料型態**為何，也請了解模型中各項參數的意義。\n",
    "\n",
    "機器學習的模型非常多種，但要訓練的資料多半有固定的格式，確保你了解訓練資料的格式為何，這樣在應用新模型時，就能夠最快的上手開始訓練！"
   ]
  },
  {
   "cell_type": "markdown",
   "metadata": {},
   "source": [
    "## 練習時間\n",
    "試著使用 sklearn datasets 的其他資料集 (boston, ...)，來訓練自己的線性迴歸模型，並加上適當的正則化來觀察訓練情形。"
   ]
  },
  {
   "cell_type": "code",
   "execution_count": 49,
   "metadata": {},
   "outputs": [],
   "source": [
    "import numpy as np\n",
    "import pandas as pd\n",
    "import matplotlib.pyplot as plt\n",
    "from sklearn import datasets\n",
    "from sklearn.linear_model import LinearRegression\n",
    "from sklearn.linear_model import Ridge\n",
    "from sklearn.linear_model import Lasso\n",
    "from sklearn.model_selection import train_test_split\n",
    "from sklearn.metrics import mean_squared_error, r2_score\n",
    "import warnings\n",
    "warnings.filterwarnings(\"ignore\")"
   ]
  },
  {
   "cell_type": "code",
   "execution_count": 50,
   "metadata": {},
   "outputs": [
    {
     "name": "stdout",
     "output_type": "stream",
     "text": [
      "X shape: (506, 13)\n",
      "y shape: (506,)\n"
     ]
    }
   ],
   "source": [
    "data = datasets.load_boston()\n",
    "X = data.data\n",
    "y = data.target\n",
    "print(\"X shape:\",X.shape)\n",
    "print(\"y shape:\",y.shape)"
   ]
  },
  {
   "cell_type": "code",
   "execution_count": 51,
   "metadata": {},
   "outputs": [
    {
     "name": "stdout",
     "output_type": "stream",
     "text": [
      "[-1.13055924e-01  3.01104641e-02  4.03807204e-02  2.78443820e+00\n",
      " -1.72026334e+01  4.43883520e+00 -6.29636221e-03 -1.44786537e+00\n",
      "  2.62429736e-01 -1.06467863e-02 -9.15456240e-01  1.23513347e-02\n",
      " -5.08571424e-01]\n",
      "MSE: 24.291119474973183\n"
     ]
    }
   ],
   "source": [
    "##Linear Regression\n",
    "x_train,x_test,y_train,y_test = train_test_split(X,y,test_size=0.2,random_state=42)\n",
    "lin_reg = LinearRegression()\n",
    "lin_reg.fit(x_train,y_train)\n",
    "y_pred = lin_reg.predict(x_test)\n",
    "print(lin_reg.coef_)\n",
    "print(\"MSE:\",mean_squared_error(y_test,y_pred))"
   ]
  },
  {
   "cell_type": "code",
   "execution_count": 57,
   "metadata": {},
   "outputs": [
    {
     "name": "stdout",
     "output_type": "stream",
     "text": [
      "[-0.07660927  0.02850064 -0.          0.         -0.          1.63048892\n",
      "  0.01639478 -0.63085765  0.21965363 -0.01228558 -0.70858233  0.0111811\n",
      " -0.74710661]\n",
      "MSE: 24.409489761299707\n"
     ]
    }
   ],
   "source": [
    "##Lasso Regression\n",
    "x_train,x_test,y_train,y_test = train_test_split(X,y,test_size=0.2,random_state=42)\n",
    "lasso_reg = Lasso(alpha=3)\n",
    "lasso_reg.fit(x_train,y_train)\n",
    "y_pred = lasso_reg.predict(x_test)\n",
    "print(lasso_reg.coef_)\n",
    "print(\"MSE:\",mean_squared_error(y_test,y_pred))"
   ]
  },
  {
   "cell_type": "code",
   "execution_count": 61,
   "metadata": {},
   "outputs": [
    {
     "name": "stdout",
     "output_type": "stream",
     "text": [
      "MSE: 24.624087717399416\n"
     ]
    }
   ],
   "source": [
    "##Ridge Regression\n",
    "x_train,x_test,y_train,y_test = train_test_split(X,y,test_size=0.2,random_state=42)\n",
    "ridge_reg = Ridge(alpha=11)\n",
    "ridge_reg.fit(x_train,y_train)\n",
    "y_pred = ridge_reg.predict(x_test)\n",
    "print(\"MSE:\",mean_squared_error(y_test,y_pred))"
   ]
  },
  {
   "cell_type": "code",
   "execution_count": null,
   "metadata": {},
   "outputs": [],
   "source": []
  }
 ],
 "metadata": {
  "kernelspec": {
   "display_name": "Python 3 (ipykernel)",
   "language": "python",
   "name": "python3"
  },
  "language_info": {
   "codemirror_mode": {
    "name": "ipython",
    "version": 3
   },
   "file_extension": ".py",
   "mimetype": "text/x-python",
   "name": "python",
   "nbconvert_exporter": "python",
   "pygments_lexer": "ipython3",
   "version": "3.10.8"
  }
 },
 "nbformat": 4,
 "nbformat_minor": 2
}
