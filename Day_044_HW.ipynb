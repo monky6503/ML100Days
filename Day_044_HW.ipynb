{
 "cells": [
  {
   "cell_type": "markdown",
   "metadata": {},
   "source": [
    "## [作業重點]\n",
    "確保你了解隨機森林模型中每個超參數的意義，並觀察調整超參數對結果的影響"
   ]
  },
  {
   "cell_type": "markdown",
   "metadata": {},
   "source": [
    "## 作業\n",
    "\n",
    "1. 試著調整 RandomForestClassifier(...) 中的參數，並觀察是否會改變結果？\n",
    "2. 改用其他資料集 (boston, wine)，並與回歸模型與決策樹的結果進行比較"
   ]
  },
  {
   "cell_type": "code",
   "execution_count": 19,
   "metadata": {},
   "outputs": [],
   "source": [
    "from sklearn import datasets \n",
    "from sklearn.ensemble import RandomForestClassifier\n",
    "from sklearn.model_selection import train_test_split\n",
    "from sklearn.metrics import accuracy_score\n",
    "import pandas as pd"
   ]
  },
  {
   "cell_type": "code",
   "execution_count": 72,
   "metadata": {},
   "outputs": [
    {
     "name": "stdout",
     "output_type": "stream",
     "text": [
      "X: (178, 13)\n",
      "y: (178,)\n"
     ]
    }
   ],
   "source": [
    "data = datasets.load_wine(as_frame=True)\n",
    "X = data.data\n",
    "y = data.target\n",
    "print(\"X:\",X.shape)\n",
    "print(\"y:\",y.shape)"
   ]
  },
  {
   "cell_type": "code",
   "execution_count": 78,
   "metadata": {},
   "outputs": [],
   "source": [
    "x_train,x_test,y_train,y_test = train_test_split(X,y,test_size=0.3,random_state=50)"
   ]
  },
  {
   "cell_type": "code",
   "execution_count": 83,
   "metadata": {},
   "outputs": [],
   "source": [
    "rf_clf1 = RandomForestClassifier(n_estimators=5,criterion=\"gini\",max_depth=6,min_samples_leaf=9,min_samples_split=4)\n",
    "rf_clf2 = RandomForestClassifier(n_estimators=5,criterion=\"gini\",max_depth=5,min_samples_leaf=6,min_samples_split=4)\n",
    "rf_clf3 = RandomForestClassifier(n_estimators=5,criterion=\"gini\",max_depth=4,min_samples_leaf=8,min_samples_split=4)\n",
    "rf_clf4 = RandomForestClassifier(n_estimators=5,criterion=\"gini\",max_depth=3,min_samples_leaf=7,min_samples_split=4)\n",
    "rf_clf5 = RandomForestClassifier()\n",
    "\n",
    "rf_clf1.fit(x_train,y_train)\n",
    "rf_clf2.fit(x_train,y_train)\n",
    "rf_clf3.fit(x_train,y_train)\n",
    "rf_clf4.fit(x_train,y_train)\n",
    "rf_clf5.fit(x_train,y_train)\n",
    "\n",
    "\n",
    "y_pred1 = rf_clf1.predict(x_test)\n",
    "y_pred2 = rf_clf2.predict(x_test)\n",
    "y_pred3 = rf_clf3.predict(x_test)\n",
    "y_pred4 = rf_clf4.predict(x_test)\n",
    "y_pred5 = rf_clf5.predict(x_test)\n",
    "\n",
    "score1 = accuracy_score(y_test,y_pred1)\n",
    "score2 = accuracy_score(y_test,y_pred2)\n",
    "score3 = accuracy_score(y_test,y_pred3)\n",
    "score4 = accuracy_score(y_test,y_pred4)\n",
    "score5 = accuracy_score(y_test,y_pred5)"
   ]
  },
  {
   "cell_type": "code",
   "execution_count": 84,
   "metadata": {},
   "outputs": [
    {
     "name": "stdout",
     "output_type": "stream",
     "text": [
      "rf_clf1_Accuracy: 0.9722222222222222\n",
      "rf_clf2_Accuracy: 0.9444444444444444\n",
      "rf_clf3_Accuracy: 0.8888888888888888\n",
      "rf_clf4_Accuracy: 0.8888888888888888\n",
      "rf_clf5_Accuracy: 0.9166666666666666\n"
     ]
    }
   ],
   "source": [
    "print(\"rf_clf1_Accuracy:\",score1)\n",
    "print(\"rf_clf2_Accuracy:\",score2)\n",
    "print(\"rf_clf3_Accuracy:\",score3)\n",
    "print(\"rf_clf4_Accuracy:\",score4)\n",
    "print(\"rf_clf5_Accuracy:\",score5)"
   ]
  },
  {
   "cell_type": "code",
   "execution_count": null,
   "metadata": {},
   "outputs": [],
   "source": []
  }
 ],
 "metadata": {
  "kernelspec": {
   "display_name": "Python 3 (ipykernel)",
   "language": "python",
   "name": "python3"
  },
  "language_info": {
   "codemirror_mode": {
    "name": "ipython",
    "version": 3
   },
   "file_extension": ".py",
   "mimetype": "text/x-python",
   "name": "python",
   "nbconvert_exporter": "python",
   "pygments_lexer": "ipython3",
   "version": "3.10.8"
  }
 },
 "nbformat": 4,
 "nbformat_minor": 2
}
